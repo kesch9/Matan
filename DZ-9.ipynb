{
 "cells": [
  {
   "cell_type": "markdown",
   "metadata": {},
   "source": [
    "### Нахождения хотя бы одного корня"
   ]
  },
  {
   "cell_type": "code",
   "execution_count": 8,
   "metadata": {},
   "outputs": [
    {
     "name": "stdout",
     "output_type": "stream",
     "text": [
      "2.261827731731923 0.39918987431434105\n"
     ]
    }
   ],
   "source": [
    "###### import numpy as np\n",
    "from scipy.optimize import fsolve, broyden1\n",
    "import math\n",
    "def equations(p):\n",
    "    x, y = p\n",
    "    # Запись системы уравнения вида 𝑥^2 − 𝑦^2 + 3𝑥𝑦^3 − 2𝑥^2𝑦^2 + 2𝑥 − 3𝑦 − 5=0, \n",
    "    #3𝑦^3 − 2𝑥^2 + 2𝑥^3𝑦 − 5𝑥^2𝑦^2 + 5 = 0\n",
    "    return (pow(x,2)-pow(y,2)+3*x*pow(y,3)-2*pow(x,3)*pow(y,2)+2*x-3*y-5, \n",
    "            3*pow(y,3)-2*pow(x,2)+2*pow(x,3)*y-5*pow(x,2)*pow(y,2)+5)\n",
    "\n",
    "# Численное решение нелинечной системы уравнений\n",
    "x, y =  fsolve(equations, (20, 20))\n",
    "print (x, y)\n"
   ]
  },
  {
   "cell_type": "code",
   "execution_count": null,
   "metadata": {},
   "outputs": [],
   "source": []
  }
 ],
 "metadata": {
  "kernelspec": {
   "display_name": "Python 3",
   "language": "python",
   "name": "python3"
  },
  "language_info": {
   "codemirror_mode": {
    "name": "ipython",
    "version": 3
   },
   "file_extension": ".py",
   "mimetype": "text/x-python",
   "name": "python",
   "nbconvert_exporter": "python",
   "pygments_lexer": "ipython3",
   "version": "3.7.3"
  }
 },
 "nbformat": 4,
 "nbformat_minor": 2
}
